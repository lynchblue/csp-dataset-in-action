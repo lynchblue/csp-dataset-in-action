{
  "cells": [
    {
      "cell_type": "markdown",
      "metadata": {
        "id": "Cpcm6_fnBfZ9"
      },
      "source": [
        "# Loading Data"
      ]
    },
    {
      "cell_type": "markdown",
      "source": [
        "Load data frames from Google Drive"
      ],
      "metadata": {
        "id": "zTBbSCSHHF4N"
      }
    },
    {
      "cell_type": "markdown",
      "source": [
        "Load data frames from Github"
      ],
      "metadata": {
        "id": "1s-TjN8kFHkN"
      }
    },
    {
      "cell_type": "code",
      "source": [
        "import numpy as np\n",
        "import pandas as pd\n",
        "\n",
        "MOVIES_DATASET_URL = \"https://raw.githubusercontent.com/lynchblue/movie-rating-dataset/main/data/movies.csv\"\n",
        "RATINGS_DATASET_URL = \"https://raw.githubusercontent.com/lynchblue/movie-rating-dataset/main/data/ratings.csv\"\n",
        "USER_PROFILES_DATASET_URL = \"https://raw.githubusercontent.com/lynchblue/movie-rating-dataset/main/data/user_profiles.csv\"\n",
        "movies_df = pd.read_csv(MOVIES_DATASET_URL)\n",
        "ratings_df = pd.read_csv(RATINGS_DATASET_URL)\n",
        "user_profiles = pd.read_csv(USER_PROFILES_DATASET_URL)"
      ],
      "metadata": {
        "id": "2P9FJHfRFFUK"
      },
      "execution_count": 1,
      "outputs": []
    },
    {
      "cell_type": "markdown",
      "source": [
        "# Prepare datasets"
      ],
      "metadata": {
        "id": "XZd2qWWIHLCE"
      }
    },
    {
      "cell_type": "markdown",
      "source": [
        "## User profile dataset"
      ],
      "metadata": {
        "id": "8MJx1AJISAco"
      }
    },
    {
      "cell_type": "code",
      "source": [
        "user_profiles[\"many_followers\"] = user_profiles[\"followers_count\"].apply(lambda x: 1 if x > 500 else 0)\n",
        "user_profiles[\"many_friends\"] = user_profiles[\"friends_count\"].apply(lambda x: 1 if x > 500 else 0)\n",
        "user_profiles[\"many_favourites\"] = user_profiles[\"favourites_count\"].apply(lambda x: 1 if x > 2000 else 0)\n",
        "user_profiles[\"heavy_tweeter\"] = user_profiles[\"number_of_tweets\"].apply(lambda x: 1 if x > 5000 else 0)\n",
        "user_profiles[\"early_user\"] = user_profiles[\"account_creation_year\"].apply(lambda x: 1 if x < 2011 else 0)\n",
        "\n",
        "user_profiles = user_profiles.drop([\"twitterName\", \"account_creation_year\", \"friends_count\", \"favourites_count\", \"followers_count\", \"number_of_tweets\", \"preferred_hour\", \"preferred_weekday\"], axis=1)\n"
      ],
      "metadata": {
        "id": "ugoyACWiSGAk"
      },
      "execution_count": 2,
      "outputs": []
    },
    {
      "cell_type": "markdown",
      "source": [
        "## Ratings dataset\n"
      ],
      "metadata": {
        "id": "y__8j-qTmCAC"
      }
    },
    {
      "cell_type": "code",
      "source": [
        "# Add weekend contextual feature\n",
        "from datetime import datetime\n",
        "ratings = ratings_df.copy()\n",
        "ratings[\"weekend\"] = ratings[\"date\"].apply(lambda x: 1 if datetime.strptime(x, '%Y-%m-%d').date().weekday() in [5,6] else 0)"
      ],
      "metadata": {
        "id": "d-rDWV8EmMA2"
      },
      "execution_count": 3,
      "outputs": []
    },
    {
      "cell_type": "markdown",
      "source": [
        "Find out number of ratings for every movie"
      ],
      "metadata": {
        "id": "2toVAGsyUY5P"
      }
    },
    {
      "cell_type": "code",
      "source": [
        "ratings[\"movie_id\"].unique().size\n",
        "# Size is 78370"
      ],
      "metadata": {
        "colab": {
          "base_uri": "https://localhost:8080/"
        },
        "id": "gFcgR8lzUdbn",
        "outputId": "63964d08-d74f-4a46-bae4-bb4990afab8c"
      },
      "execution_count": 4,
      "outputs": [
        {
          "output_type": "execute_result",
          "data": {
            "text/plain": [
              "78370"
            ]
          },
          "metadata": {},
          "execution_count": 4
        }
      ]
    },
    {
      "cell_type": "code",
      "source": [
        "MINIMUM_NUMBER_OF_RATES = 100\n",
        "ratings[\"count\"] = ratings.groupby(\"movie_id\")[\"movie_id\"].transform(\"count\")\n",
        "ratings = ratings[ratings[\"count\"] > MINIMUM_NUMBER_OF_RATES]\n",
        "\n",
        "movies_with_enough_ratings = ratings[\"movie_id\"].unique()\n",
        "movies_with_enough_ratings.size\n",
        "# Size is 16414"
      ],
      "metadata": {
        "colab": {
          "base_uri": "https://localhost:8080/"
        },
        "id": "JAWz_wgueFeb",
        "outputId": "15fabace-7538-4cd5-d41f-c019bcdc0d15"
      },
      "execution_count": 5,
      "outputs": [
        {
          "output_type": "execute_result",
          "data": {
            "text/plain": [
              "2831"
            ]
          },
          "metadata": {},
          "execution_count": 5
        }
      ]
    },
    {
      "cell_type": "markdown",
      "source": [
        "## Movies dataset"
      ],
      "metadata": {
        "id": "bFMuCIldHwR8"
      }
    },
    {
      "cell_type": "markdown",
      "source": [
        "Filter out movies with less than 10 ratings"
      ],
      "metadata": {
        "id": "lykgf2RbED8P"
      }
    },
    {
      "cell_type": "code",
      "source": [
        "movies = movies_df.copy()\n",
        "movies = movies.set_index(\"id\")\n",
        "movies = movies[movies.index.isin(movies_with_enough_ratings)]"
      ],
      "metadata": {
        "id": "L-gsID0Q7QrC"
      },
      "execution_count": 6,
      "outputs": []
    },
    {
      "cell_type": "markdown",
      "source": [
        "Sort the movies"
      ],
      "metadata": {
        "id": "S1fkEbtOIqU0"
      }
    },
    {
      "cell_type": "code",
      "source": [
        "movies = movies.sort_index()"
      ],
      "metadata": {
        "id": "Bh7UZou_IfR2"
      },
      "execution_count": 7,
      "outputs": []
    },
    {
      "cell_type": "markdown",
      "source": [
        "Cleanup genres column"
      ],
      "metadata": {
        "id": "S0dnxBRLHVqy"
      }
    },
    {
      "cell_type": "code",
      "source": [
        "def cleanup_and_flatmap_column(df, column_name):\n",
        "  dataframe = df.copy()\n",
        "  # Cleanup (removal of spanish 'acentos' with wrong encoding)\n",
        "  dataframe[column_name] = dataframe[column_name].str.replace('\\| ', '|')\n",
        "  dataframe[column_name] = dataframe[column_name].str.replace('Ã©', 'é')\n",
        "  dataframe[column_name] = dataframe[column_name].str.replace('Ã\\x81', 'Á')\n",
        "  dataframe[column_name] = dataframe[column_name].str.replace('Ã\\x93', 'Ó')\n",
        "  dataframe[column_name] = dataframe[column_name].str.replace('Ã¡', 'á')\n",
        "  dataframe[column_name] = dataframe[column_name].str.replace('Ã³', 'ó')\n",
        "  dataframe[column_name] = dataframe[column_name].str.replace('Ã±', 'ñ')\n",
        "  dataframe[column_name] = dataframe[column_name].str.replace('Ã\\xad', 'í')\n",
        "  dataframe[column_name] = dataframe[column_name].str.replace('Ãº', 'ú')\n",
        "\n",
        "  column_grouped = dataframe[~dataframe[column_name].isna()][column_name].unique()\n",
        "  column_ungrouped = [i.split(\"|\") for i in column_grouped]\n",
        "\n",
        "  dataframe[column_name] = dataframe[column_name].fillna(\"NOT_PROVIDED\")\n",
        "\n",
        "  columns = list(set([i for lst in column_ungrouped for i in lst]))\n",
        "\n",
        "  # Add column for every genre to dataframe\n",
        "  for col in columns:\n",
        "      dataframe[col] = dataframe[column_name].apply(lambda x: 1 if col in x else 0)\n",
        "  return dataframe, columns"
      ],
      "metadata": {
        "id": "T60_VIB32yu-"
      },
      "execution_count": 8,
      "outputs": []
    },
    {
      "cell_type": "code",
      "source": [
        "movies, all_genres = cleanup_and_flatmap_column(movies, \"genres\")"
      ],
      "metadata": {
        "colab": {
          "base_uri": "https://localhost:8080/"
        },
        "id": "g7-tH-Sh3-B5",
        "outputId": "f1ac403c-511e-43f2-a725-5cc3e95555d9"
      },
      "execution_count": 9,
      "outputs": [
        {
          "output_type": "stream",
          "name": "stderr",
          "text": [
            "/usr/local/lib/python3.7/dist-packages/ipykernel_launcher.py:4: FutureWarning: The default value of regex will change from True to False in a future version.\n",
            "  after removing the cwd from sys.path.\n"
          ]
        }
      ]
    },
    {
      "cell_type": "code",
      "source": [
        "movies, all_topics = cleanup_and_flatmap_column(movies, \"topics\")"
      ],
      "metadata": {
        "colab": {
          "base_uri": "https://localhost:8080/"
        },
        "id": "wR-g4uIU4m4t",
        "outputId": "2abfc316-8c98-4c6b-ffae-bf7318c55ddd"
      },
      "execution_count": 10,
      "outputs": [
        {
          "output_type": "stream",
          "name": "stderr",
          "text": [
            "/usr/local/lib/python3.7/dist-packages/ipykernel_launcher.py:4: FutureWarning: The default value of regex will change from True to False in a future version.\n",
            "  after removing the cwd from sys.path.\n",
            "/usr/local/lib/python3.7/dist-packages/ipykernel_launcher.py:23: PerformanceWarning: DataFrame is highly fragmented.  This is usually the result of calling `frame.insert` many times, which has poor performance.  Consider joining all columns at once using pd.concat(axis=1) instead.  To get a de-fragmented frame, use `newframe = frame.copy()`\n"
          ]
        }
      ]
    },
    {
      "cell_type": "code",
      "source": [
        "movies, all_country_codes = cleanup_and_flatmap_column(movies, \"country_code\")"
      ],
      "metadata": {
        "colab": {
          "base_uri": "https://localhost:8080/"
        },
        "id": "MW7HN2GoapKi",
        "outputId": "dd7f0f0d-35af-48c6-fcbd-21d00428c34b"
      },
      "execution_count": 11,
      "outputs": [
        {
          "output_type": "stream",
          "name": "stderr",
          "text": [
            "/usr/local/lib/python3.7/dist-packages/ipykernel_launcher.py:4: FutureWarning: The default value of regex will change from True to False in a future version.\n",
            "  after removing the cwd from sys.path.\n"
          ]
        }
      ]
    },
    {
      "cell_type": "code",
      "source": [
        "movies[\"old\"] = movies[\"year_published\"].apply(lambda x: 1 if x < 2000 else 0)\n",
        "movies[\"10s\"] = movies[\"year_published\"].apply(lambda x: 1 if ((x < 2020) & (x >= 2010)) else 0)\n",
        "movies[\"00s\"] = movies[\"year_published\"].apply(lambda x: 1 if ((x < 2010) & (x >= 2000)) else 0)\n",
        "movies[\"90s\"] = movies[\"year_published\"].apply(lambda x: 1 if ((x < 2000) & (x >= 1990)) else 0)\n",
        "movies[\"80s\"] = movies[\"year_published\"].apply(lambda x: 1 if ((x < 1990) & (x >= 1980)) else 0)\n",
        "movies[\"70s\"] = movies[\"year_published\"].apply(lambda x: 1 if ((x < 1980) & (x >= 1970)) else 0)\n",
        "movies[\"60s\"] = movies[\"year_published\"].apply(lambda x: 1 if ((x < 1970) & (x >= 1960)) else 0)\n",
        "movies[\"50s\"] = movies[\"year_published\"].apply(lambda x: 1 if ((x < 1960) & (x >= 1950)) else 0)\n",
        "movies[\"40s\"] = movies[\"year_published\"].apply(lambda x: 1 if ((x < 1950) & (x >= 1940)) else 0)\n",
        "movies[\"30s\"] = movies[\"year_published\"].apply(lambda x: 1 if ((x < 1940) & (x >= 1930)) else 0)\n",
        "movies[\"20s\"] = movies[\"year_published\"].apply(lambda x: 1 if ((x < 1930) & (x >= 1920)) else 0)"
      ],
      "metadata": {
        "id": "bYQntkMHciTC"
      },
      "execution_count": 12,
      "outputs": []
    },
    {
      "cell_type": "code",
      "source": [
        "movies[\"short\"] = movies[\"duration\"].apply(lambda x: 1 if x < 91 else 0)\n",
        "movies[\"long\"] = movies[\"duration\"].apply(lambda x: 1 if x >= 150 else 0)"
      ],
      "metadata": {
        "id": "CLkaljD8enLK"
      },
      "execution_count": 13,
      "outputs": []
    },
    {
      "cell_type": "markdown",
      "source": [
        "Select only movie features and remove the rest"
      ],
      "metadata": {
        "id": "UM-cXYgoIzeS"
      }
    },
    {
      "cell_type": "code",
      "source": [
        "print(movies.columns)\n",
        "movie_features = movies.columns"
      ],
      "metadata": {
        "colab": {
          "base_uri": "https://localhost:8080/"
        },
        "id": "dLvl2UHsLcsh",
        "outputId": "e70d8ff8-c44a-419b-f8d2-f92ebd370af5"
      },
      "execution_count": 14,
      "outputs": [
        {
          "output_type": "stream",
          "name": "stdout",
          "text": [
            "Index(['main_title', 'year_published', 'duration', 'country_name',\n",
            "       'country_code', 'original_title', 'directors', 'actors', 'genres',\n",
            "       'plot',\n",
            "       ...\n",
            "       '90s', '80s', '70s', '60s', '50s', '40s', '30s', '20s', 'short',\n",
            "       'long'],\n",
            "      dtype='object', length=428)\n"
          ]
        }
      ]
    },
    {
      "cell_type": "code",
      "source": [
        "movies = movies.drop(['main_title', 'year_published', 'duration', 'country_name', 'country_code', 'original_title', 'directors', 'actors', 'genres', 'plot', 'script', 'producer', 'music', 'photography', 'rate', 'topics'], axis=1)"
      ],
      "metadata": {
        "id": "o_V8i--cIyDI"
      },
      "execution_count": 15,
      "outputs": []
    },
    {
      "cell_type": "markdown",
      "source": [
        "# Aggregate datasets"
      ],
      "metadata": {
        "id": "ItNg-iEt336X"
      }
    },
    {
      "cell_type": "markdown",
      "source": [
        "Prepare rating dataset enrich with user_profile"
      ],
      "metadata": {
        "id": "C5Ii0mHB5ELm"
      }
    },
    {
      "cell_type": "code",
      "source": [
        "# ratings id \n",
        "# user_profile id\n",
        "# Merge with user profiles\n",
        "ratings_enriched = ratings[[\"id\", \"rate\", \"movie_id\"]].merge(user_profiles, how=\"left\")\n"
      ],
      "metadata": {
        "id": "KCaIGZrS5Nvd"
      },
      "execution_count": 16,
      "outputs": []
    },
    {
      "cell_type": "code",
      "source": [
        "\n",
        "# For every movie and feature option combination calculate average\n",
        "user_features = ratings_enriched.drop([\"id\", \"movie_id\", \"rate\"], axis=1).columns\n",
        "# Target df: movie_id, feature_key_value, avg_rate\n",
        "#df_target = pd.DataFrame(columns=['movie_id', 'rate', 'feature_key_value'])\n",
        "df_target = pd.DataFrame(columns=['movie_id', 'rate', 'feature_key', 'feature_value'])\n",
        "for feature in user_features:\n",
        "\n",
        "  values = ratings_enriched[feature].unique()\n",
        "  values = values[~np.isnan(values)]\n",
        "  values.sort()\n",
        "  \n",
        "  for value in values:\n",
        "    df = ratings_enriched[ratings_enriched[feature] == value][[\"rate\", \"movie_id\"]]\n",
        "    df = df.groupby(\"movie_id\")\n",
        "    df = df.mean()\n",
        "    df = df.reset_index()\n",
        "    #df[\"feature_key_value\"] = feature + \"_\" + str(int(value))\n",
        "    df[\"feature_key\"] = feature\n",
        "    df[\"feature_value\"] = int(value)\n",
        "    df_target = pd.concat([df_target, df], axis=0)\n"
      ],
      "metadata": {
        "id": "O1z0sPH2M7nG"
      },
      "execution_count": 17,
      "outputs": []
    },
    {
      "cell_type": "code",
      "source": [
        "feature_ratings_matrix = df_target.pivot_table(values='rate', index=['feature_key', 'feature_value'], columns='movie_id', aggfunc='first')"
      ],
      "metadata": {
        "id": "G-E7p32-fdIe"
      },
      "execution_count": 18,
      "outputs": []
    },
    {
      "cell_type": "code",
      "source": [
        ""
      ],
      "metadata": {
        "id": "ECODG1r4oL2d"
      },
      "execution_count": 18,
      "outputs": []
    },
    {
      "cell_type": "markdown",
      "source": [
        "# Create predictions"
      ],
      "metadata": {
        "id": "N7FheKARoOu8"
      }
    },
    {
      "cell_type": "markdown",
      "source": [
        "## Predictions from user-product feature matrix"
      ],
      "metadata": {
        "id": "6R4Mr1bhoXMr"
      }
    },
    {
      "cell_type": "code",
      "source": [
        "user_profiles = user_profiles.set_index('id')\n",
        "user_profiles = user_profiles[sorted(user_profiles.columns)]"
      ],
      "metadata": {
        "id": "ICizAbwRU6jL"
      },
      "execution_count": 19,
      "outputs": []
    },
    {
      "cell_type": "code",
      "source": [
        "SELECTED_USER = 333743\n",
        "user_profile = user_profiles.loc[SELECTED_USER]"
      ],
      "metadata": {
        "id": "viy0yn-Sjns0"
      },
      "execution_count": 20,
      "outputs": []
    },
    {
      "cell_type": "code",
      "source": [
        "def filter_features_for_user(features_rating_matrix, user_profile):\n",
        "  # Filter entries relevant for user profile (drop the ones that the user don't have)\n",
        "  filtered_matrix = features_rating_matrix.copy()\n",
        "  for k, v in user_profile.items():\n",
        "    # Negate value\n",
        "    filtered_matrix = filtered_matrix.drop((k, negate_value(v)), axis=0)\n",
        "  \n",
        "\n",
        "  return filtered_matrix\n",
        "\n",
        "def negate_value(value):\n",
        "  if value == 0:\n",
        "    return 1\n",
        "  elif value == 1:\n",
        "    return 0\n",
        "\n",
        "matrix = filter_features_for_user(feature_ratings_matrix, user_profile)\n",
        "# Drop columns (movies) with any Nan values\n",
        "#filtered_matrix_without_na = filtered_matrix.dropna(axis=1)\n",
        "# Sort columns (movies)\n",
        "matrix = matrix[sorted(matrix.columns)]\n",
        "\n",
        "\n",
        "\n"
      ],
      "metadata": {
        "id": "CsasytJYkLDR"
      },
      "execution_count": 21,
      "outputs": []
    },
    {
      "cell_type": "code",
      "source": [
        "from sklearn import preprocessing\n",
        "\n",
        "matrix_preprocessed = pd.DataFrame(preprocessing.MinMaxScaler(feature_range=(0.5,1)).fit_transform(matrix.values), columns=matrix.columns, index=matrix.index)\n",
        "\n",
        "user_movie_feature = np.dot(matrix_preprocessed, movies)\n",
        "\n",
        "weights = user_movie_feature / user_movie_feature.sum()\n",
        "pred = np.dot(weights, movies.T)\n",
        "movie_pred = np.mean(pred, axis=0)\n"
      ],
      "metadata": {
        "id": "x4-GVYdLboHQ"
      },
      "execution_count": 22,
      "outputs": []
    },
    {
      "cell_type": "code",
      "source": [
        "# Create ratings matrix\n",
        "ratings_matrix = ratings[[\"id\", \"movie_id\", \"rate\"]].set_index([\"id\"])\n",
        "\n",
        "# Rename rate column\n",
        "ratings_matrix.rename(columns = {\"rate\": \"y\"}, inplace = True)\n",
        "\n",
        "# Filter out movies with not enough ratings\n",
        "ratings_matrix = ratings_matrix[ratings_matrix[\"movie_id\"].isin(movies_with_enough_ratings)]\n",
        "\n",
        "# Set movies as column\n",
        "ratings_matrix = ratings_matrix.pivot_table(values='y', index = ratings_matrix.index, columns='movie_id', aggfunc='first')\n",
        "\n",
        "# Select user to be used for recommendations\n",
        "ratings_list_for_user = ratings_matrix[ratings_matrix.index == SELECTED_USER].T\n",
        "ratings_list_for_user.columns = [\"y\"]\n",
        "\n",
        "# Aggregate with prediction series\n",
        "ratings_list_for_user['yhat'] = movie_pred\n",
        "\n",
        "# Filter Nan values and sort according to predictions\n",
        "ratings_list_for_user[\"y\"]\n",
        "ratings_list_for_user = ratings_list_for_user[~ratings_list_for_user[\"y\"].isna()]\n",
        "ratings_list_for_user = ratings_list_for_user.sort_values(by = 'yhat', ascending = False)\n",
        "\n",
        "# Compare results and evaluate\n",
        "ratings_list_for_user.head(10)"
      ],
      "metadata": {
        "colab": {
          "base_uri": "https://localhost:8080/",
          "height": 394
        },
        "id": "V_UD3UyUlNd1",
        "outputId": "94103b7d-7d06-4e82-c079-ae1b6588f4b4"
      },
      "execution_count": 23,
      "outputs": [
        {
          "output_type": "execute_result",
          "data": {
            "text/plain": [
              "             y      yhat\n",
              "movie_id                \n",
              "419029     8.0  0.030549\n",
              "874956     9.0  0.029963\n",
              "745751    10.0  0.028816\n",
              "459936     9.0  0.028218\n",
              "169177     8.0  0.027271\n",
              "867354     9.0  0.027091\n",
              "252628     7.0  0.027059\n",
              "370639     9.0  0.026944\n",
              "978961     8.0  0.026939\n",
              "505307     8.0  0.026880"
            ],
            "text/html": [
              "\n",
              "  <div id=\"df-1c678b3e-0f08-4b88-9ab7-381a668a0a60\">\n",
              "    <div class=\"colab-df-container\">\n",
              "      <div>\n",
              "<style scoped>\n",
              "    .dataframe tbody tr th:only-of-type {\n",
              "        vertical-align: middle;\n",
              "    }\n",
              "\n",
              "    .dataframe tbody tr th {\n",
              "        vertical-align: top;\n",
              "    }\n",
              "\n",
              "    .dataframe thead th {\n",
              "        text-align: right;\n",
              "    }\n",
              "</style>\n",
              "<table border=\"1\" class=\"dataframe\">\n",
              "  <thead>\n",
              "    <tr style=\"text-align: right;\">\n",
              "      <th></th>\n",
              "      <th>y</th>\n",
              "      <th>yhat</th>\n",
              "    </tr>\n",
              "    <tr>\n",
              "      <th>movie_id</th>\n",
              "      <th></th>\n",
              "      <th></th>\n",
              "    </tr>\n",
              "  </thead>\n",
              "  <tbody>\n",
              "    <tr>\n",
              "      <th>419029</th>\n",
              "      <td>8.0</td>\n",
              "      <td>0.030549</td>\n",
              "    </tr>\n",
              "    <tr>\n",
              "      <th>874956</th>\n",
              "      <td>9.0</td>\n",
              "      <td>0.029963</td>\n",
              "    </tr>\n",
              "    <tr>\n",
              "      <th>745751</th>\n",
              "      <td>10.0</td>\n",
              "      <td>0.028816</td>\n",
              "    </tr>\n",
              "    <tr>\n",
              "      <th>459936</th>\n",
              "      <td>9.0</td>\n",
              "      <td>0.028218</td>\n",
              "    </tr>\n",
              "    <tr>\n",
              "      <th>169177</th>\n",
              "      <td>8.0</td>\n",
              "      <td>0.027271</td>\n",
              "    </tr>\n",
              "    <tr>\n",
              "      <th>867354</th>\n",
              "      <td>9.0</td>\n",
              "      <td>0.027091</td>\n",
              "    </tr>\n",
              "    <tr>\n",
              "      <th>252628</th>\n",
              "      <td>7.0</td>\n",
              "      <td>0.027059</td>\n",
              "    </tr>\n",
              "    <tr>\n",
              "      <th>370639</th>\n",
              "      <td>9.0</td>\n",
              "      <td>0.026944</td>\n",
              "    </tr>\n",
              "    <tr>\n",
              "      <th>978961</th>\n",
              "      <td>8.0</td>\n",
              "      <td>0.026939</td>\n",
              "    </tr>\n",
              "    <tr>\n",
              "      <th>505307</th>\n",
              "      <td>8.0</td>\n",
              "      <td>0.026880</td>\n",
              "    </tr>\n",
              "  </tbody>\n",
              "</table>\n",
              "</div>\n",
              "      <button class=\"colab-df-convert\" onclick=\"convertToInteractive('df-1c678b3e-0f08-4b88-9ab7-381a668a0a60')\"\n",
              "              title=\"Convert this dataframe to an interactive table.\"\n",
              "              style=\"display:none;\">\n",
              "        \n",
              "  <svg xmlns=\"http://www.w3.org/2000/svg\" height=\"24px\"viewBox=\"0 0 24 24\"\n",
              "       width=\"24px\">\n",
              "    <path d=\"M0 0h24v24H0V0z\" fill=\"none\"/>\n",
              "    <path d=\"M18.56 5.44l.94 2.06.94-2.06 2.06-.94-2.06-.94-.94-2.06-.94 2.06-2.06.94zm-11 1L8.5 8.5l.94-2.06 2.06-.94-2.06-.94L8.5 2.5l-.94 2.06-2.06.94zm10 10l.94 2.06.94-2.06 2.06-.94-2.06-.94-.94-2.06-.94 2.06-2.06.94z\"/><path d=\"M17.41 7.96l-1.37-1.37c-.4-.4-.92-.59-1.43-.59-.52 0-1.04.2-1.43.59L10.3 9.45l-7.72 7.72c-.78.78-.78 2.05 0 2.83L4 21.41c.39.39.9.59 1.41.59.51 0 1.02-.2 1.41-.59l7.78-7.78 2.81-2.81c.8-.78.8-2.07 0-2.86zM5.41 20L4 18.59l7.72-7.72 1.47 1.35L5.41 20z\"/>\n",
              "  </svg>\n",
              "      </button>\n",
              "      \n",
              "  <style>\n",
              "    .colab-df-container {\n",
              "      display:flex;\n",
              "      flex-wrap:wrap;\n",
              "      gap: 12px;\n",
              "    }\n",
              "\n",
              "    .colab-df-convert {\n",
              "      background-color: #E8F0FE;\n",
              "      border: none;\n",
              "      border-radius: 50%;\n",
              "      cursor: pointer;\n",
              "      display: none;\n",
              "      fill: #1967D2;\n",
              "      height: 32px;\n",
              "      padding: 0 0 0 0;\n",
              "      width: 32px;\n",
              "    }\n",
              "\n",
              "    .colab-df-convert:hover {\n",
              "      background-color: #E2EBFA;\n",
              "      box-shadow: 0px 1px 2px rgba(60, 64, 67, 0.3), 0px 1px 3px 1px rgba(60, 64, 67, 0.15);\n",
              "      fill: #174EA6;\n",
              "    }\n",
              "\n",
              "    [theme=dark] .colab-df-convert {\n",
              "      background-color: #3B4455;\n",
              "      fill: #D2E3FC;\n",
              "    }\n",
              "\n",
              "    [theme=dark] .colab-df-convert:hover {\n",
              "      background-color: #434B5C;\n",
              "      box-shadow: 0px 1px 3px 1px rgba(0, 0, 0, 0.15);\n",
              "      filter: drop-shadow(0px 1px 2px rgba(0, 0, 0, 0.3));\n",
              "      fill: #FFFFFF;\n",
              "    }\n",
              "  </style>\n",
              "\n",
              "      <script>\n",
              "        const buttonEl =\n",
              "          document.querySelector('#df-1c678b3e-0f08-4b88-9ab7-381a668a0a60 button.colab-df-convert');\n",
              "        buttonEl.style.display =\n",
              "          google.colab.kernel.accessAllowed ? 'block' : 'none';\n",
              "\n",
              "        async function convertToInteractive(key) {\n",
              "          const element = document.querySelector('#df-1c678b3e-0f08-4b88-9ab7-381a668a0a60');\n",
              "          const dataTable =\n",
              "            await google.colab.kernel.invokeFunction('convertToInteractive',\n",
              "                                                     [key], {});\n",
              "          if (!dataTable) return;\n",
              "\n",
              "          const docLinkHtml = 'Like what you see? Visit the ' +\n",
              "            '<a target=\"_blank\" href=https://colab.research.google.com/notebooks/data_table.ipynb>data table notebook</a>'\n",
              "            + ' to learn more about interactive tables.';\n",
              "          element.innerHTML = '';\n",
              "          dataTable['output_type'] = 'display_data';\n",
              "          await google.colab.output.renderOutput(dataTable, element);\n",
              "          const docLink = document.createElement('div');\n",
              "          docLink.innerHTML = docLinkHtml;\n",
              "          element.appendChild(docLink);\n",
              "        }\n",
              "      </script>\n",
              "    </div>\n",
              "  </div>\n",
              "  "
            ]
          },
          "metadata": {},
          "execution_count": 23
        }
      ]
    },
    {
      "cell_type": "markdown",
      "source": [
        "## Predictions from high affinity user-product matrix"
      ],
      "metadata": {
        "id": "mXjd9GJ7Yjxq"
      }
    },
    {
      "cell_type": "code",
      "source": [
        "#user_profiles = user_profiles.drop(\"affinity\", axis=1)\n",
        "def calculate_affinity(row, user_profile):\n",
        "  number_of_different_features = (user_profile.compare(row).size / 2)\n",
        "  number_of_features = user_profile.size\n",
        "  \n",
        "  return number_of_features - number_of_different_features\n",
        "\n",
        "user_profile_with_affinity = user_profiles.copy()\n",
        "user_profile_with_affinity = user_profile_with_affinity.drop(SELECTED_USER, axis=0)\n",
        "user_profile_with_affinity[\"affinity\"] = user_profile_with_affinity.apply(lambda row: calculate_affinity(row, user_profile), axis=1)\n",
        "\n",
        "\n"
      ],
      "metadata": {
        "id": "V4u7VUWXYiic"
      },
      "execution_count": 24,
      "outputs": []
    },
    {
      "cell_type": "code",
      "source": [
        "\n",
        "\n",
        "# Fetch ids from soul twins\n",
        "\n",
        "users_with_high_affinity = user_profile_with_affinity[user_profile_with_affinity[\"affinity\"] > 8].index\n",
        "\n",
        "\n",
        "# Get ratings only from this users\n",
        "#movie_pred_from_affinity = ratings_matrix[ratings_matrix.index.isin(users_with_high_affinity)].mean()\n",
        "matrix_for_affinity = ratings_matrix[ratings_matrix.index.isin(users_with_high_affinity)]\n",
        "matrix_for_affinity = pd.DataFrame(preprocessing.MinMaxScaler(feature_range=(0.5,1)).fit_transform(matrix_for_affinity.values), columns=matrix_for_affinity.columns, index=matrix_for_affinity.index)\n",
        "movie_pred_from_affinity = matrix_for_affinity.mean()\n",
        "# Reduce with average on movie_ids\n",
        "\n",
        "# Sort from movie ids as keys\n",
        "# Merge this df with the other\n",
        "ratings_list_for_user['yhat_affinity'] = movie_pred_from_affinity\n",
        "\n",
        "ratings_list_for_user.sort_values(by = 'yhat_affinity', ascending=False)\n",
        "\n",
        "predictions_for_user = ratings_list_for_user.copy()\n",
        "\n",
        "#movie_pred_from_affinity_v2 = ratings_list_for_user.copy()\n",
        "#predictions_for_user[[\"yhat\", \"yhat_affinity\"]] = pd.DataFrame(preprocessing.MinMaxScaler(feature_range=(0.5,1)).fit_transform(predictions_for_user[[\"yhat\", \"yhat_affinity\"]]))"
      ],
      "metadata": {
        "colab": {
          "base_uri": "https://localhost:8080/"
        },
        "id": "hxOzbAYVmhJt",
        "outputId": "2a873034-ffdc-4168-8c27-602da47c82b8"
      },
      "execution_count": 25,
      "outputs": [
        {
          "output_type": "stream",
          "name": "stderr",
          "text": [
            "/usr/local/lib/python3.7/dist-packages/sklearn/preprocessing/_data.py:461: RuntimeWarning: All-NaN slice encountered\n",
            "  data_min = np.nanmin(X, axis=0)\n",
            "/usr/local/lib/python3.7/dist-packages/sklearn/preprocessing/_data.py:462: RuntimeWarning: All-NaN slice encountered\n",
            "  data_max = np.nanmax(X, axis=0)\n"
          ]
        }
      ]
    },
    {
      "cell_type": "code",
      "source": [
        ""
      ],
      "metadata": {
        "id": "AZ1heWcZClZm"
      },
      "execution_count": 25,
      "outputs": []
    },
    {
      "cell_type": "markdown",
      "source": [
        "## Setting all together"
      ],
      "metadata": {
        "id": "EgFvYSiKo0Gt"
      }
    },
    {
      "cell_type": "code",
      "source": [
        "\n",
        "predictions_for_user = pd.DataFrame(preprocessing.MinMaxScaler(feature_range=(0.5,1)).fit_transform(predictions_for_user.values), columns=predictions_for_user.columns, index=predictions_for_user.index)\n"
      ],
      "metadata": {
        "id": "smhPgCdnZRbS"
      },
      "execution_count": 26,
      "outputs": []
    },
    {
      "cell_type": "code",
      "source": [
        "predictions_for_user[\"yhat_total\"] = predictions_for_user[\"yhat\"] * 0.5 + predictions_for_user[\"yhat_affinity\"] * 0.5"
      ],
      "metadata": {
        "id": "ocfkdbh6Xwft"
      },
      "execution_count": 27,
      "outputs": []
    },
    {
      "cell_type": "markdown",
      "source": [
        "## Show predictions"
      ],
      "metadata": {
        "id": "Xorzpwk9pB9n"
      }
    },
    {
      "cell_type": "code",
      "source": [
        "predictions_for_user = predictions_for_user.sort_values(by = 'yhat_total', ascending = False)\n"
      ],
      "metadata": {
        "id": "jf-sZSr6441Z"
      },
      "execution_count": 28,
      "outputs": []
    },
    {
      "cell_type": "code",
      "source": [
        "predictions_for_user.head(15)"
      ],
      "metadata": {
        "colab": {
          "base_uri": "https://localhost:8080/",
          "height": 551
        },
        "id": "rtSVdAv_5qTd",
        "outputId": "f68807aa-3708-434e-dc8f-58bdf43bedac"
      },
      "execution_count": 29,
      "outputs": [
        {
          "output_type": "execute_result",
          "data": {
            "text/plain": [
              "                 y      yhat  yhat_affinity  yhat_total\n",
              "movie_id                                               \n",
              "745751    1.000000  0.963304       0.915282    0.939293\n",
              "655275    0.888889  0.917696       0.939276    0.928486\n",
              "624827    0.944444  0.834351       0.998339    0.916345\n",
              "459936    0.944444  0.950638       0.872689    0.911664\n",
              "252628    0.833333  0.926104       0.887597    0.906850\n",
              "370639    0.944444  0.923677       0.876586    0.900131\n",
              "890034    0.833333  0.884844       0.915282    0.900063\n",
              "256051    0.944444  0.912249       0.887597    0.899923\n",
              "419029    0.888889  1.000000       0.797158    0.898579\n",
              "497394    0.833333  0.837342       0.941860    0.889601\n",
              "932476    0.833333  0.909781       0.868217    0.888999\n",
              "178603    0.944444  0.906906       0.868217    0.887562\n",
              "867354    0.944444  0.926790       0.846069    0.886429\n",
              "269833    0.888889  0.836507       0.936047    0.886277\n",
              "588031    0.833333  0.849894       0.919897    0.884895"
            ],
            "text/html": [
              "\n",
              "  <div id=\"df-fd521896-ecf9-41c3-a15c-4c0df8fd20a0\">\n",
              "    <div class=\"colab-df-container\">\n",
              "      <div>\n",
              "<style scoped>\n",
              "    .dataframe tbody tr th:only-of-type {\n",
              "        vertical-align: middle;\n",
              "    }\n",
              "\n",
              "    .dataframe tbody tr th {\n",
              "        vertical-align: top;\n",
              "    }\n",
              "\n",
              "    .dataframe thead th {\n",
              "        text-align: right;\n",
              "    }\n",
              "</style>\n",
              "<table border=\"1\" class=\"dataframe\">\n",
              "  <thead>\n",
              "    <tr style=\"text-align: right;\">\n",
              "      <th></th>\n",
              "      <th>y</th>\n",
              "      <th>yhat</th>\n",
              "      <th>yhat_affinity</th>\n",
              "      <th>yhat_total</th>\n",
              "    </tr>\n",
              "    <tr>\n",
              "      <th>movie_id</th>\n",
              "      <th></th>\n",
              "      <th></th>\n",
              "      <th></th>\n",
              "      <th></th>\n",
              "    </tr>\n",
              "  </thead>\n",
              "  <tbody>\n",
              "    <tr>\n",
              "      <th>745751</th>\n",
              "      <td>1.000000</td>\n",
              "      <td>0.963304</td>\n",
              "      <td>0.915282</td>\n",
              "      <td>0.939293</td>\n",
              "    </tr>\n",
              "    <tr>\n",
              "      <th>655275</th>\n",
              "      <td>0.888889</td>\n",
              "      <td>0.917696</td>\n",
              "      <td>0.939276</td>\n",
              "      <td>0.928486</td>\n",
              "    </tr>\n",
              "    <tr>\n",
              "      <th>624827</th>\n",
              "      <td>0.944444</td>\n",
              "      <td>0.834351</td>\n",
              "      <td>0.998339</td>\n",
              "      <td>0.916345</td>\n",
              "    </tr>\n",
              "    <tr>\n",
              "      <th>459936</th>\n",
              "      <td>0.944444</td>\n",
              "      <td>0.950638</td>\n",
              "      <td>0.872689</td>\n",
              "      <td>0.911664</td>\n",
              "    </tr>\n",
              "    <tr>\n",
              "      <th>252628</th>\n",
              "      <td>0.833333</td>\n",
              "      <td>0.926104</td>\n",
              "      <td>0.887597</td>\n",
              "      <td>0.906850</td>\n",
              "    </tr>\n",
              "    <tr>\n",
              "      <th>370639</th>\n",
              "      <td>0.944444</td>\n",
              "      <td>0.923677</td>\n",
              "      <td>0.876586</td>\n",
              "      <td>0.900131</td>\n",
              "    </tr>\n",
              "    <tr>\n",
              "      <th>890034</th>\n",
              "      <td>0.833333</td>\n",
              "      <td>0.884844</td>\n",
              "      <td>0.915282</td>\n",
              "      <td>0.900063</td>\n",
              "    </tr>\n",
              "    <tr>\n",
              "      <th>256051</th>\n",
              "      <td>0.944444</td>\n",
              "      <td>0.912249</td>\n",
              "      <td>0.887597</td>\n",
              "      <td>0.899923</td>\n",
              "    </tr>\n",
              "    <tr>\n",
              "      <th>419029</th>\n",
              "      <td>0.888889</td>\n",
              "      <td>1.000000</td>\n",
              "      <td>0.797158</td>\n",
              "      <td>0.898579</td>\n",
              "    </tr>\n",
              "    <tr>\n",
              "      <th>497394</th>\n",
              "      <td>0.833333</td>\n",
              "      <td>0.837342</td>\n",
              "      <td>0.941860</td>\n",
              "      <td>0.889601</td>\n",
              "    </tr>\n",
              "    <tr>\n",
              "      <th>932476</th>\n",
              "      <td>0.833333</td>\n",
              "      <td>0.909781</td>\n",
              "      <td>0.868217</td>\n",
              "      <td>0.888999</td>\n",
              "    </tr>\n",
              "    <tr>\n",
              "      <th>178603</th>\n",
              "      <td>0.944444</td>\n",
              "      <td>0.906906</td>\n",
              "      <td>0.868217</td>\n",
              "      <td>0.887562</td>\n",
              "    </tr>\n",
              "    <tr>\n",
              "      <th>867354</th>\n",
              "      <td>0.944444</td>\n",
              "      <td>0.926790</td>\n",
              "      <td>0.846069</td>\n",
              "      <td>0.886429</td>\n",
              "    </tr>\n",
              "    <tr>\n",
              "      <th>269833</th>\n",
              "      <td>0.888889</td>\n",
              "      <td>0.836507</td>\n",
              "      <td>0.936047</td>\n",
              "      <td>0.886277</td>\n",
              "    </tr>\n",
              "    <tr>\n",
              "      <th>588031</th>\n",
              "      <td>0.833333</td>\n",
              "      <td>0.849894</td>\n",
              "      <td>0.919897</td>\n",
              "      <td>0.884895</td>\n",
              "    </tr>\n",
              "  </tbody>\n",
              "</table>\n",
              "</div>\n",
              "      <button class=\"colab-df-convert\" onclick=\"convertToInteractive('df-fd521896-ecf9-41c3-a15c-4c0df8fd20a0')\"\n",
              "              title=\"Convert this dataframe to an interactive table.\"\n",
              "              style=\"display:none;\">\n",
              "        \n",
              "  <svg xmlns=\"http://www.w3.org/2000/svg\" height=\"24px\"viewBox=\"0 0 24 24\"\n",
              "       width=\"24px\">\n",
              "    <path d=\"M0 0h24v24H0V0z\" fill=\"none\"/>\n",
              "    <path d=\"M18.56 5.44l.94 2.06.94-2.06 2.06-.94-2.06-.94-.94-2.06-.94 2.06-2.06.94zm-11 1L8.5 8.5l.94-2.06 2.06-.94-2.06-.94L8.5 2.5l-.94 2.06-2.06.94zm10 10l.94 2.06.94-2.06 2.06-.94-2.06-.94-.94-2.06-.94 2.06-2.06.94z\"/><path d=\"M17.41 7.96l-1.37-1.37c-.4-.4-.92-.59-1.43-.59-.52 0-1.04.2-1.43.59L10.3 9.45l-7.72 7.72c-.78.78-.78 2.05 0 2.83L4 21.41c.39.39.9.59 1.41.59.51 0 1.02-.2 1.41-.59l7.78-7.78 2.81-2.81c.8-.78.8-2.07 0-2.86zM5.41 20L4 18.59l7.72-7.72 1.47 1.35L5.41 20z\"/>\n",
              "  </svg>\n",
              "      </button>\n",
              "      \n",
              "  <style>\n",
              "    .colab-df-container {\n",
              "      display:flex;\n",
              "      flex-wrap:wrap;\n",
              "      gap: 12px;\n",
              "    }\n",
              "\n",
              "    .colab-df-convert {\n",
              "      background-color: #E8F0FE;\n",
              "      border: none;\n",
              "      border-radius: 50%;\n",
              "      cursor: pointer;\n",
              "      display: none;\n",
              "      fill: #1967D2;\n",
              "      height: 32px;\n",
              "      padding: 0 0 0 0;\n",
              "      width: 32px;\n",
              "    }\n",
              "\n",
              "    .colab-df-convert:hover {\n",
              "      background-color: #E2EBFA;\n",
              "      box-shadow: 0px 1px 2px rgba(60, 64, 67, 0.3), 0px 1px 3px 1px rgba(60, 64, 67, 0.15);\n",
              "      fill: #174EA6;\n",
              "    }\n",
              "\n",
              "    [theme=dark] .colab-df-convert {\n",
              "      background-color: #3B4455;\n",
              "      fill: #D2E3FC;\n",
              "    }\n",
              "\n",
              "    [theme=dark] .colab-df-convert:hover {\n",
              "      background-color: #434B5C;\n",
              "      box-shadow: 0px 1px 3px 1px rgba(0, 0, 0, 0.15);\n",
              "      filter: drop-shadow(0px 1px 2px rgba(0, 0, 0, 0.3));\n",
              "      fill: #FFFFFF;\n",
              "    }\n",
              "  </style>\n",
              "\n",
              "      <script>\n",
              "        const buttonEl =\n",
              "          document.querySelector('#df-fd521896-ecf9-41c3-a15c-4c0df8fd20a0 button.colab-df-convert');\n",
              "        buttonEl.style.display =\n",
              "          google.colab.kernel.accessAllowed ? 'block' : 'none';\n",
              "\n",
              "        async function convertToInteractive(key) {\n",
              "          const element = document.querySelector('#df-fd521896-ecf9-41c3-a15c-4c0df8fd20a0');\n",
              "          const dataTable =\n",
              "            await google.colab.kernel.invokeFunction('convertToInteractive',\n",
              "                                                     [key], {});\n",
              "          if (!dataTable) return;\n",
              "\n",
              "          const docLinkHtml = 'Like what you see? Visit the ' +\n",
              "            '<a target=\"_blank\" href=https://colab.research.google.com/notebooks/data_table.ipynb>data table notebook</a>'\n",
              "            + ' to learn more about interactive tables.';\n",
              "          element.innerHTML = '';\n",
              "          dataTable['output_type'] = 'display_data';\n",
              "          await google.colab.output.renderOutput(dataTable, element);\n",
              "          const docLink = document.createElement('div');\n",
              "          docLink.innerHTML = docLinkHtml;\n",
              "          element.appendChild(docLink);\n",
              "        }\n",
              "      </script>\n",
              "    </div>\n",
              "  </div>\n",
              "  "
            ]
          },
          "metadata": {},
          "execution_count": 29
        }
      ]
    },
    {
      "cell_type": "markdown",
      "source": [
        "# Evaluate results"
      ],
      "metadata": {
        "id": "bgUAygs6pKgv"
      }
    },
    {
      "cell_type": "code",
      "source": [
        "NUMBER_OF_RECOMMENDATIONS = 5"
      ],
      "metadata": {
        "id": "ypBcgGth7Xgj"
      },
      "execution_count": 30,
      "outputs": []
    },
    {
      "cell_type": "markdown",
      "source": [
        "## Mean reciprocal rank and Accuracy"
      ],
      "metadata": {
        "id": "fN-PJyWNpPuE"
      }
    },
    {
      "cell_type": "code",
      "source": [
        "from sklearn import metrics, preprocessing\n",
        "\n",
        "def mean_reciprocal_rank(actual, predicted):\n",
        "    score = []\n",
        "    for product in actual:\n",
        "        mrr = 1 / (list(predicted).index(product) + 1) if product in predicted else 0\n",
        "        score.append(mrr)\n",
        "    return np.mean(score)\n",
        "\n",
        "top_prediction_df = predictions_for_user.head(NUMBER_OF_RECOMMENDATIONS)\n",
        "\n",
        "prediction_movie_ids = top_prediction_df.index.values\n",
        "print(\"prediction:\", prediction_movie_ids)\n",
        "real_ratings_movie_ids = top_prediction_df.sort_index(ascending= True).sort_values(\"y\", ascending=False).index.values\n",
        "print(\"actual:\", real_ratings_movie_ids)\n",
        "\n",
        "# Accuracy\n",
        "print(\"accuracy:\", str(round(metrics.accuracy_score(real_ratings_movie_ids,prediction_movie_ids)*100,1))+\"%\")\n",
        "\n",
        "# Mean reciprocal average0\n",
        "print(\"mrr:\", str(round(mean_reciprocal_rank(real_ratings_movie_ids, prediction_movie_ids), 3)))\n"
      ],
      "metadata": {
        "colab": {
          "base_uri": "https://localhost:8080/"
        },
        "id": "KYaFYQg4BZik",
        "outputId": "d3a5a4af-028d-4009-b60b-2fa4302ecbbc"
      },
      "execution_count": 31,
      "outputs": [
        {
          "output_type": "stream",
          "name": "stdout",
          "text": [
            "prediction: [745751 655275 624827 459936 252628]\n",
            "actual: [745751 459936 624827 655275 252628]\n",
            "accuracy: 60.0%\n",
            "mrr: 0.457\n"
          ]
        }
      ]
    },
    {
      "cell_type": "markdown",
      "source": [
        "## Rate average"
      ],
      "metadata": {
        "id": "F_5UoS3CpvpT"
      }
    },
    {
      "cell_type": "code",
      "source": [
        "# Set real ratings from user back to \"y\" column\n",
        "predictions_for_user[\"y\"] = ratings_list_for_user[[\"y\"]]\n",
        "average_rating_top_recommended = predictions_for_user[[\"y\"]].head(NUMBER_OF_RECOMMENDATIONS).mean()[0]\n",
        "#predictions_for_user[[\"y\"]].take(range(0, NUMBER_OF_RECOMMENDATIONS)).mean()\n",
        "\n",
        "print(\"the avg. of top \" + str(NUMBER_OF_RECOMMENDATIONS) + \" movies to user is \" + str(average_rating_top_recommended)+ \" out of 10\")\n",
        "\n",
        "# get user average rating\n",
        "avg_rating_from_user = round(ratings_df[ratings_df[\"id\"] == SELECTED_USER][\"rate\"].mean(), 2)\n",
        "\n",
        "percentage_better = round(((average_rating_top_recommended - avg_rating_from_user) / avg_rating_from_user) * 100, 2)\n",
        "print (\"Which is \" + str(percentage_better) + \"% better than the average rating of the user (\" + str(avg_rating_from_user) + \" out of 10)\")"
      ],
      "metadata": {
        "colab": {
          "base_uri": "https://localhost:8080/"
        },
        "id": "MH-nTNFgs0u1",
        "outputId": "e8402726-e4fc-4fc2-d0bd-bae3297a39fd"
      },
      "execution_count": 32,
      "outputs": [
        {
          "output_type": "stream",
          "name": "stdout",
          "text": [
            "the avg. of top 5 movies to user is 8.6 out of 10\n",
            "Which is 16.53% better than the average rating of the user (7.38 out of 10)\n"
          ]
        }
      ]
    },
    {
      "cell_type": "code",
      "source": [
        "ratings_distribution_for_user = ratings_df[ratings_df[\"id\"] == SELECTED_USER][\"rate\"].value_counts().sort_index().to_frame()\n",
        "\n",
        "ratings_distribution_for_user"
      ],
      "metadata": {
        "colab": {
          "base_uri": "https://localhost:8080/",
          "height": 363
        },
        "id": "Djf1w5oCizcL",
        "outputId": "fb784e7f-8406-4fa0-f92f-396ff01deb66"
      },
      "execution_count": 33,
      "outputs": [
        {
          "output_type": "execute_result",
          "data": {
            "text/plain": [
              "    rate\n",
              "1      4\n",
              "2      3\n",
              "3      9\n",
              "4     13\n",
              "5     34\n",
              "6    111\n",
              "7    212\n",
              "8    268\n",
              "9    119\n",
              "10    32"
            ],
            "text/html": [
              "\n",
              "  <div id=\"df-76044d0b-f82a-4f45-b975-dd160436658f\">\n",
              "    <div class=\"colab-df-container\">\n",
              "      <div>\n",
              "<style scoped>\n",
              "    .dataframe tbody tr th:only-of-type {\n",
              "        vertical-align: middle;\n",
              "    }\n",
              "\n",
              "    .dataframe tbody tr th {\n",
              "        vertical-align: top;\n",
              "    }\n",
              "\n",
              "    .dataframe thead th {\n",
              "        text-align: right;\n",
              "    }\n",
              "</style>\n",
              "<table border=\"1\" class=\"dataframe\">\n",
              "  <thead>\n",
              "    <tr style=\"text-align: right;\">\n",
              "      <th></th>\n",
              "      <th>rate</th>\n",
              "    </tr>\n",
              "  </thead>\n",
              "  <tbody>\n",
              "    <tr>\n",
              "      <th>1</th>\n",
              "      <td>4</td>\n",
              "    </tr>\n",
              "    <tr>\n",
              "      <th>2</th>\n",
              "      <td>3</td>\n",
              "    </tr>\n",
              "    <tr>\n",
              "      <th>3</th>\n",
              "      <td>9</td>\n",
              "    </tr>\n",
              "    <tr>\n",
              "      <th>4</th>\n",
              "      <td>13</td>\n",
              "    </tr>\n",
              "    <tr>\n",
              "      <th>5</th>\n",
              "      <td>34</td>\n",
              "    </tr>\n",
              "    <tr>\n",
              "      <th>6</th>\n",
              "      <td>111</td>\n",
              "    </tr>\n",
              "    <tr>\n",
              "      <th>7</th>\n",
              "      <td>212</td>\n",
              "    </tr>\n",
              "    <tr>\n",
              "      <th>8</th>\n",
              "      <td>268</td>\n",
              "    </tr>\n",
              "    <tr>\n",
              "      <th>9</th>\n",
              "      <td>119</td>\n",
              "    </tr>\n",
              "    <tr>\n",
              "      <th>10</th>\n",
              "      <td>32</td>\n",
              "    </tr>\n",
              "  </tbody>\n",
              "</table>\n",
              "</div>\n",
              "      <button class=\"colab-df-convert\" onclick=\"convertToInteractive('df-76044d0b-f82a-4f45-b975-dd160436658f')\"\n",
              "              title=\"Convert this dataframe to an interactive table.\"\n",
              "              style=\"display:none;\">\n",
              "        \n",
              "  <svg xmlns=\"http://www.w3.org/2000/svg\" height=\"24px\"viewBox=\"0 0 24 24\"\n",
              "       width=\"24px\">\n",
              "    <path d=\"M0 0h24v24H0V0z\" fill=\"none\"/>\n",
              "    <path d=\"M18.56 5.44l.94 2.06.94-2.06 2.06-.94-2.06-.94-.94-2.06-.94 2.06-2.06.94zm-11 1L8.5 8.5l.94-2.06 2.06-.94-2.06-.94L8.5 2.5l-.94 2.06-2.06.94zm10 10l.94 2.06.94-2.06 2.06-.94-2.06-.94-.94-2.06-.94 2.06-2.06.94z\"/><path d=\"M17.41 7.96l-1.37-1.37c-.4-.4-.92-.59-1.43-.59-.52 0-1.04.2-1.43.59L10.3 9.45l-7.72 7.72c-.78.78-.78 2.05 0 2.83L4 21.41c.39.39.9.59 1.41.59.51 0 1.02-.2 1.41-.59l7.78-7.78 2.81-2.81c.8-.78.8-2.07 0-2.86zM5.41 20L4 18.59l7.72-7.72 1.47 1.35L5.41 20z\"/>\n",
              "  </svg>\n",
              "      </button>\n",
              "      \n",
              "  <style>\n",
              "    .colab-df-container {\n",
              "      display:flex;\n",
              "      flex-wrap:wrap;\n",
              "      gap: 12px;\n",
              "    }\n",
              "\n",
              "    .colab-df-convert {\n",
              "      background-color: #E8F0FE;\n",
              "      border: none;\n",
              "      border-radius: 50%;\n",
              "      cursor: pointer;\n",
              "      display: none;\n",
              "      fill: #1967D2;\n",
              "      height: 32px;\n",
              "      padding: 0 0 0 0;\n",
              "      width: 32px;\n",
              "    }\n",
              "\n",
              "    .colab-df-convert:hover {\n",
              "      background-color: #E2EBFA;\n",
              "      box-shadow: 0px 1px 2px rgba(60, 64, 67, 0.3), 0px 1px 3px 1px rgba(60, 64, 67, 0.15);\n",
              "      fill: #174EA6;\n",
              "    }\n",
              "\n",
              "    [theme=dark] .colab-df-convert {\n",
              "      background-color: #3B4455;\n",
              "      fill: #D2E3FC;\n",
              "    }\n",
              "\n",
              "    [theme=dark] .colab-df-convert:hover {\n",
              "      background-color: #434B5C;\n",
              "      box-shadow: 0px 1px 3px 1px rgba(0, 0, 0, 0.15);\n",
              "      filter: drop-shadow(0px 1px 2px rgba(0, 0, 0, 0.3));\n",
              "      fill: #FFFFFF;\n",
              "    }\n",
              "  </style>\n",
              "\n",
              "      <script>\n",
              "        const buttonEl =\n",
              "          document.querySelector('#df-76044d0b-f82a-4f45-b975-dd160436658f button.colab-df-convert');\n",
              "        buttonEl.style.display =\n",
              "          google.colab.kernel.accessAllowed ? 'block' : 'none';\n",
              "\n",
              "        async function convertToInteractive(key) {\n",
              "          const element = document.querySelector('#df-76044d0b-f82a-4f45-b975-dd160436658f');\n",
              "          const dataTable =\n",
              "            await google.colab.kernel.invokeFunction('convertToInteractive',\n",
              "                                                     [key], {});\n",
              "          if (!dataTable) return;\n",
              "\n",
              "          const docLinkHtml = 'Like what you see? Visit the ' +\n",
              "            '<a target=\"_blank\" href=https://colab.research.google.com/notebooks/data_table.ipynb>data table notebook</a>'\n",
              "            + ' to learn more about interactive tables.';\n",
              "          element.innerHTML = '';\n",
              "          dataTable['output_type'] = 'display_data';\n",
              "          await google.colab.output.renderOutput(dataTable, element);\n",
              "          const docLink = document.createElement('div');\n",
              "          docLink.innerHTML = docLinkHtml;\n",
              "          element.appendChild(docLink);\n",
              "        }\n",
              "      </script>\n",
              "    </div>\n",
              "  </div>\n",
              "  "
            ]
          },
          "metadata": {},
          "execution_count": 33
        }
      ]
    },
    {
      "cell_type": "code",
      "source": [
        "import matplotlib.pyplot as plt\n",
        "\n",
        "#x = [1, 2, 3, 4, 5, 6, 7, 8, 9, 10]\n",
        "\n",
        "#y = [1, 2, 3, 4, 5, 6, 7, 8, 9, 10]\n",
        "x = ratings_distribution_for_user.index.to_list()\n",
        "y = ratings_distribution_for_user.index.to_list()\n",
        "\n",
        "#w = [4, 3, 9, 13, 34, 111, 212, 268, 119, 32]\n",
        "w = ratings_distribution_for_user[\"rate\"].to_list()\n",
        "\n",
        "colors = [\"#4FD5A1\", \"#4FD5A1\",\"#4BCA98\",\"#47BE90\",\"#42B387\",\"#3EA87F\",\"#3A9D76\",\"#36926E\",\"#328665\", \"#2E7B5D\"]\n",
        "\n",
        "#plt.bar(x, height = y, width = w, color = colors, alpha = 0.8)\n",
        "\n",
        "xticks=[]\n",
        "for n, c in enumerate(w):\n",
        "    xticks.append(sum(w[:n]) + w[n]/2)\n",
        "    \n",
        "w_new = [i/max(w) for i in w]\n",
        "a = plt.bar(xticks, height = y, width = w, color = colors, alpha = 0.8)\n",
        "_ = plt.xticks(xticks, w)\n",
        "\n",
        "plt.legend(a.patches, x)\n",
        "plt.axhline(y=average_rating_top_recommended, linewidth=0.5, color='r', ls = '-.', label = 'h')\n",
        "plt.axhline(y=avg_rating_from_user, linewidth=0.5, color='b', ls = '-.')\n",
        "plt.xlabel(\"Number of ratings per rating ranks\")\n",
        "plt.ylabel(\"Rating rank\")\n",
        "plt.rcParams[\"figure.figsize\"] = (10,5)\n",
        "\n",
        "plt.show()"
      ],
      "metadata": {
        "colab": {
          "base_uri": "https://localhost:8080/",
          "height": 279
        },
        "outputId": "12f5cc99-6718-4def-9df2-8f43452f5060",
        "id": "KKAUFRZ6vyzi"
      },
      "execution_count": 34,
      "outputs": [
        {
          "output_type": "display_data",
          "data": {
            "text/plain": [
              "<Figure size 432x288 with 1 Axes>"
            ],
            "image/png": "[encoded data removed]"
          },
          "metadata": {
            "needs_background": "light"
          }
        }
      ]
    },
    {
      "cell_type": "code",
      "source": [
        ""
      ],
      "metadata": {
        "id": "BopxOrAyWDp_"
      },
      "execution_count": 34,
      "outputs": []
    },
    {
      "cell_type": "markdown",
      "source": [
        "# Statistics and graphs\n"
      ],
      "metadata": {
        "id": "sadBOnaGIOKz"
      }
    },
    {
      "cell_type": "markdown",
      "source": [
        "## Raw dataset statistics"
      ],
      "metadata": {
        "id": "MjubbnPy1wsW"
      }
    },
    {
      "cell_type": "markdown",
      "source": [
        "\n",
        "\n",
        "* Number of movies: 78628, after filter 2831\n",
        "* Distribution Genres (/)\n",
        "* Duration distribution (/)\n",
        "* Distribution of topics (x)\n",
        "* Number of actors (x)\n",
        "* Number of directors (x)\n",
        "* Number of diferent countries (/)\n",
        "* Country distribution (/)\n",
        "\n",
        "\n",
        "---\n",
        "\n",
        "* Number of users: 481\n",
        "* Feature distribution (Done)\n",
        "\n",
        "---\n",
        "\n",
        "* Number of ratings: 1172038\n",
        "* Average ratings: 6.04134\n",
        "* Distribution ratings (/)\n",
        "* Date of rating distribution (/)\n",
        "* Avg rating per week day distribution (x)\n",
        "* Distribution number of ratings per user (/)"
      ],
      "metadata": {
        "id": "OwZC0Jkc15fb"
      }
    },
    {
      "cell_type": "markdown",
      "source": [
        "## Movies statistics"
      ],
      "metadata": {
        "id": "Tfc1AJZMig60"
      }
    },
    {
      "cell_type": "markdown",
      "source": [
        "Country distribution"
      ],
      "metadata": {
        "id": "Rt1SoqYBN6vX"
      }
    },
    {
      "cell_type": "code",
      "source": [
        "movies_cleanup, countries = cleanup_and_flatmap_column(movies_df, \"country_name\")"
      ],
      "metadata": {
        "id": "YEm5gQdr1vyx",
        "colab": {
          "base_uri": "https://localhost:8080/"
        },
        "outputId": "d4227829-be2a-4c6d-a86a-bd43a487c891"
      },
      "execution_count": 35,
      "outputs": [
        {
          "output_type": "stream",
          "name": "stderr",
          "text": [
            "/usr/local/lib/python3.7/dist-packages/ipykernel_launcher.py:4: FutureWarning: The default value of regex will change from True to False in a future version.\n",
            "  after removing the cwd from sys.path.\n",
            "/usr/local/lib/python3.7/dist-packages/ipykernel_launcher.py:23: PerformanceWarning: DataFrame is highly fragmented.  This is usually the result of calling `frame.insert` many times, which has poor performance.  Consider joining all columns at once using pd.concat(axis=1) instead.  To get a de-fragmented frame, use `newframe = frame.copy()`\n"
          ]
        }
      ]
    },
    {
      "cell_type": "code",
      "source": [
        "\n",
        "print(\"Number of different countries: \" + str(movies_cleanup[\"country_name\"].value_counts().shape[0]))\n",
        "top_countries = movies_cleanup[\"country_name\"].value_counts().to_frame().head(14).reset_index()\n",
        "total_number_of_movies = movies_cleanup.shape[0]\n",
        "number_of_movies_from_top_countries = top_countries[\"country_name\"].sum()\n",
        "number_of_movies_for_the_rest = total_number_of_movies - number_of_movies_from_top_countries\n",
        "top_countries = top_countries.append({'index' : 'Others', 'country_name' : number_of_movies_for_the_rest} , \n",
        "                    ignore_index=True).set_index(\"index\")\n",
        "\n",
        "top_countries.rename(columns = {'country_name':'Number of movies'}, inplace = True)\n",
        "top_countries.plot.bar(y=\"Number of movies\", figsize=(10, 5), xlabel=\"Countries\")\n",
        "\n"
      ],
      "metadata": {
        "id": "RwXbHLz3A1OP",
        "colab": {
          "base_uri": "https://localhost:8080/",
          "height": 436
        },
        "outputId": "faa638da-fbff-49bf-d3c1-1a66369cfbfc"
      },
      "execution_count": 36,
      "outputs": [
        {
          "output_type": "stream",
          "name": "stdout",
          "text": [
            "Number of different countries: 200\n"
          ]
        },
        {
          "output_type": "execute_result",
          "data": {
            "text/plain": [
              "<matplotlib.axes._subplots.AxesSubplot at 0x7f813723fcd0>"
            ]
          },
          "metadata": {},
          "execution_count": 36
        },
        {
          "output_type": "display_data",
          "data": {
            "text/plain": [
              "<Figure size 720x360 with 1 Axes>"
            ],
            "image/png": "[encoded data removed]"
          },
          "metadata": {
            "needs_background": "light"
          }
        }
      ]
    },
    {
      "cell_type": "markdown",
      "source": [
        "Duration distribution"
      ],
      "metadata": {
        "id": "fSxEzR9das6Z"
      }
    },
    {
      "cell_type": "code",
      "source": [
        "def classify_duration(x):\n",
        "  if x < 60:\n",
        "    return \"< 60\"\n",
        "  elif (x >= 60) & (x < 90):\n",
        "    return \"60 - 90\"\n",
        "  elif (x >= 90) & (x < 120):\n",
        "    return \"90 - 120\"\n",
        "  elif (x >= 120) & (x < 180):\n",
        "    return \"120 - 180\"\n",
        "  elif x > 180:\n",
        "    return \"> 180\"\n",
        "\n",
        "movies_df[\"duration-enum\"] = movies_df[\"duration\"].apply(lambda x: classify_duration(x))\n",
        "duration_distribution = movies_df[[\"duration-enum\"]].value_counts().to_frame()\n",
        "duration_distribution = duration_distribution.loc[[\"< 60\", \"60 - 90\", \"90 - 120\", \"120 - 180\", \"> 180\"], :] \n",
        "\n",
        "duration_distribution.rename(columns = {0:'Duration'}, inplace = True)\n",
        "duration_distribution.plot.bar(y='Duration', figsize=(10, 5), xlabel=\"Duration\")"
      ],
      "metadata": {
        "id": "QjP13Bjdaun4",
        "colab": {
          "base_uri": "https://localhost:8080/",
          "height": 400
        },
        "outputId": "dbc44b8b-dcf0-4f3b-f70b-b0632c1d2f90"
      },
      "execution_count": 37,
      "outputs": [
        {
          "output_type": "execute_result",
          "data": {
            "text/plain": [
              "<matplotlib.axes._subplots.AxesSubplot at 0x7f8137191850>"
            ]
          },
          "metadata": {},
          "execution_count": 37
        },
        {
          "output_type": "display_data",
          "data": {
            "text/plain": [
              "<Figure size 720x360 with 1 Axes>"
            ],
            "image/png": "[encoded data removed]"
          },
          "metadata": {
            "needs_background": "light"
          }
        }
      ]
    },
    {
      "cell_type": "markdown",
      "source": [
        "Distribution of genres"
      ],
      "metadata": {
        "id": "tfdAwC7legga"
      }
    },
    {
      "cell_type": "code",
      "source": [
        "movies_df, all_genres = cleanup_and_flatmap_column(movies_df, \"genres\")\n"
      ],
      "metadata": {
        "id": "ENSY8f-Oes5n",
        "colab": {
          "base_uri": "https://localhost:8080/"
        },
        "outputId": "97c7fed0-5d7b-4ec4-947e-3514290ff591"
      },
      "execution_count": 38,
      "outputs": [
        {
          "output_type": "stream",
          "name": "stderr",
          "text": [
            "/usr/local/lib/python3.7/dist-packages/ipykernel_launcher.py:4: FutureWarning: The default value of regex will change from True to False in a future version.\n",
            "  after removing the cwd from sys.path.\n"
          ]
        }
      ]
    },
    {
      "cell_type": "code",
      "source": [
        "genres_distribution = movies_df[all_genres].sum()\n",
        "genres_distribution.drop('Desconocido', inplace = True, errors='ignore')\n",
        "genres_distribution.drop('NOT_PROVIDED', inplace = True, errors='ignore')\n",
        "genres_distribution.sort_values(ascending = False).plot.bar(y='Duration', figsize=(10, 5), xlabel=\"Genres\")"
      ],
      "metadata": {
        "id": "B7rSVkMVgJd5",
        "colab": {
          "base_uri": "https://localhost:8080/",
          "height": 414
        },
        "outputId": "1adabdf6-2230-419d-a6f4-df05b947400b"
      },
      "execution_count": 39,
      "outputs": [
        {
          "output_type": "execute_result",
          "data": {
            "text/plain": [
              "<matplotlib.axes._subplots.AxesSubplot at 0x7f813732da50>"
            ]
          },
          "metadata": {},
          "execution_count": 39
        },
        {
          "output_type": "display_data",
          "data": {
            "text/plain": [
              "<Figure size 720x360 with 1 Axes>"
            ],
            "image/png": "[encoded data removed]"
          },
          "metadata": {
            "needs_background": "light"
          }
        }
      ]
    },
    {
      "cell_type": "markdown",
      "source": [
        "## Distribution of user profile features"
      ],
      "metadata": {
        "id": "WBIuCgGlISIf"
      }
    },
    {
      "cell_type": "code",
      "source": [
        "for column in user_profiles.columns:\n",
        "  \n",
        "  distribution = user_profiles[[column]].value_counts().to_frame()\n",
        "  distribution.rename(columns={ 0: column}, inplace = True)\n",
        "  distribution.plot.pie(y=column, figsize=(5,5))"
      ],
      "metadata": {
        "id": "as4ApKHdFivK",
        "colab": {
          "base_uri": "https://localhost:8080/",
          "height": 1000
        },
        "outputId": "899447d8-f174-4aec-df51-f80bfb463589"
      },
      "execution_count": 40,
      "outputs": [
        {
          "output_type": "display_data",
          "data": {
            "text/plain": [
              "<Figure size 360x360 with 1 Axes>"
            ],
            "image/png": "[encoded data removed]"
          },
          "metadata": {}
        },
        {
          "output_type": "display_data",
          "data": {
            "text/plain": [
              "<Figure size 360x360 with 1 Axes>"
            ],
            "image/png": "[encoded data removed]"
          },
          "metadata": {}
        },
        {
          "output_type": "display_data",
          "data": {
            "text/plain": [
              "<Figure size 360x360 with 1 Axes>"
            ],
            "image/png": "[encoded data removed]"
          },
          "metadata": {}
        },
        {
          "output_type": "display_data",
          "data": {
            "text/plain": [
              "<Figure size 360x360 with 1 Axes>"
            ],
            "image/png": "[encoded data removed]"
          },
          "metadata": {}
        },
        {
          "output_type": "display_data",
          "data": {
            "text/plain": [
              "<Figure size 360x360 with 1 Axes>"
            ],
            "image/png": "[encoded data removed]"
          },
          "metadata": {}
        },
        {
          "output_type": "display_data",
          "data": {
            "text/plain": [
              "<Figure size 360x360 with 1 Axes>"
            ],
            "image/png": "[encoded data removed]"
          },
          "metadata": {}
        },
        {
          "output_type": "display_data",
          "data": {
            "text/plain": [
              "<Figure size 360x360 with 1 Axes>"
            ],
            "image/png": "[encoded data removed]"
          },
          "metadata": {}
        },
        {
          "output_type": "display_data",
          "data": {
            "text/plain": [
              "<Figure size 360x360 with 1 Axes>"
            ],
            "image/png": "[encoded data removed]"
          },
          "metadata": {}
        },
        {
          "output_type": "display_data",
          "data": {
            "text/plain": [
              "<Figure size 360x360 with 1 Axes>"
            ],
            "image/png": "[encoded data removed]"
          },
          "metadata": {}
        },
        {
          "output_type": "display_data",
          "data": {
            "text/plain": [
              "<Figure size 360x360 with 1 Axes>"
            ],
            "image/png": "[encoded data removed]"
          },
          "metadata": {}
        }
      ]
    },
    {
      "cell_type": "markdown",
      "source": [
        "## Distribution of ratings\n"
      ],
      "metadata": {
        "id": "dZc2UujkiqEE"
      }
    },
    {
      "cell_type": "code",
      "source": [
        "ratings_df[[\"rate\"]].mean()"
      ],
      "metadata": {
        "id": "0icDVYi8ixfm",
        "colab": {
          "base_uri": "https://localhost:8080/"
        },
        "outputId": "52313540-1825-4475-dc43-2607f03c3d27"
      },
      "execution_count": 41,
      "outputs": [
        {
          "output_type": "execute_result",
          "data": {
            "text/plain": [
              "rate    6.04134\n",
              "dtype: float64"
            ]
          },
          "metadata": {},
          "execution_count": 41
        }
      ]
    },
    {
      "cell_type": "markdown",
      "source": [
        "Ratings distribution"
      ],
      "metadata": {
        "id": "Qt9BRyAEl_h6"
      }
    },
    {
      "cell_type": "code",
      "source": [
        "ratings_distribution = ratings_df[\"rate\"].value_counts().sort_index().to_frame()\n",
        "ratings_distribution.rename(columns = {\"rate\":'Rate'}, inplace = True)\n",
        "ratings_distribution.plot.bar(y='Rate', figsize=(10, 5), xlabel=\"Rate\")"
      ],
      "metadata": {
        "id": "LeM4khyfkyRj",
        "colab": {
          "base_uri": "https://localhost:8080/",
          "height": 354
        },
        "outputId": "f120345f-745b-43e6-ac6b-eb0119f6e251"
      },
      "execution_count": 42,
      "outputs": [
        {
          "output_type": "execute_result",
          "data": {
            "text/plain": [
              "<matplotlib.axes._subplots.AxesSubplot at 0x7f8136820d90>"
            ]
          },
          "metadata": {},
          "execution_count": 42
        },
        {
          "output_type": "display_data",
          "data": {
            "text/plain": [
              "<Figure size 720x360 with 1 Axes>"
            ],
            "image/png": "[encoded data removed]"
          },
          "metadata": {
            "needs_background": "light"
          }
        }
      ]
    },
    {
      "cell_type": "markdown",
      "source": [
        "Distribution rating by day of the week"
      ],
      "metadata": {
        "id": "jZhMJTpxmC-d"
      }
    },
    {
      "cell_type": "code",
      "source": [
        "ratings_df[\"day_of_the_week\"] = ratings_df[\"date\"].apply(lambda x: datetime.strptime(x, '%Y-%m-%d').date().weekday())"
      ],
      "metadata": {
        "id": "jyBsMwhRmSt_"
      },
      "execution_count": 43,
      "outputs": []
    },
    {
      "cell_type": "code",
      "source": [
        "ratings_per_weekday_distribution = ratings_df[\"day_of_the_week\"].value_counts().sort_index().to_frame().reset_index()\n",
        "days = ['Monday', 'Tuesday', 'Wednesday', 'Thursday', 'Friday', 'Saturday', 'Sunday']\n",
        "ratings_per_weekday_distribution[\"index\"] = ratings_per_weekday_distribution[\"index\"].apply(lambda x: days [x])\n",
        "ratings_per_weekday_distribution = ratings_per_weekday_distribution.set_index(\"index\")\n",
        "ratings_per_weekday_distribution.rename(columns={ \"day_of_the_week\": \"Week day\"}, inplace = True)\n",
        "ratings_per_weekday_distribution.plot.bar(y=\"Week day\", figsize=(10, 5), xlabel=\"Week day\")"
      ],
      "metadata": {
        "id": "NqLUei00moXw",
        "colab": {
          "base_uri": "https://localhost:8080/",
          "height": 400
        },
        "outputId": "7d4cdd89-e4e2-4dc2-ee48-211278573540"
      },
      "execution_count": 44,
      "outputs": [
        {
          "output_type": "execute_result",
          "data": {
            "text/plain": [
              "<matplotlib.axes._subplots.AxesSubplot at 0x7f81367c4550>"
            ]
          },
          "metadata": {},
          "execution_count": 44
        },
        {
          "output_type": "display_data",
          "data": {
            "text/plain": [
              "<Figure size 720x360 with 1 Axes>"
            ],
            "image/png": "[encoded data removed]"
          },
          "metadata": {
            "needs_background": "light"
          }
        }
      ]
    },
    {
      "cell_type": "markdown",
      "source": [
        "Rating avg by day of the week"
      ],
      "metadata": {
        "id": "qywJFYnypoZ3"
      }
    },
    {
      "cell_type": "code",
      "source": [
        "ratings_df[[\"day_of_the_week\", \"rate\"]].groupby(\"day_of_the_week\").mean()"
      ],
      "metadata": {
        "id": "OjxFp4wvpuwn",
        "colab": {
          "base_uri": "https://localhost:8080/",
          "height": 300
        },
        "outputId": "a612b2fd-ab97-485c-848f-c7836016e051"
      },
      "execution_count": 45,
      "outputs": [
        {
          "output_type": "execute_result",
          "data": {
            "text/plain": [
              "                     rate\n",
              "day_of_the_week          \n",
              "0                6.039573\n",
              "1                6.007480\n",
              "2                6.015555\n",
              "3                6.071690\n",
              "4                6.052625\n",
              "5                6.059153\n",
              "6                6.043078"
            ],
            "text/html": [
              "\n",
              "  <div id=\"df-03e165c5-3dd5-40a6-8899-0e0c894aca3d\">\n",
              "    <div class=\"colab-df-container\">\n",
              "      <div>\n",
              "<style scoped>\n",
              "    .dataframe tbody tr th:only-of-type {\n",
              "        vertical-align: middle;\n",
              "    }\n",
              "\n",
              "    .dataframe tbody tr th {\n",
              "        vertical-align: top;\n",
              "    }\n",
              "\n",
              "    .dataframe thead th {\n",
              "        text-align: right;\n",
              "    }\n",
              "</style>\n",
              "<table border=\"1\" class=\"dataframe\">\n",
              "  <thead>\n",
              "    <tr style=\"text-align: right;\">\n",
              "      <th></th>\n",
              "      <th>rate</th>\n",
              "    </tr>\n",
              "    <tr>\n",
              "      <th>day_of_the_week</th>\n",
              "      <th></th>\n",
              "    </tr>\n",
              "  </thead>\n",
              "  <tbody>\n",
              "    <tr>\n",
              "      <th>0</th>\n",
              "      <td>6.039573</td>\n",
              "    </tr>\n",
              "    <tr>\n",
              "      <th>1</th>\n",
              "      <td>6.007480</td>\n",
              "    </tr>\n",
              "    <tr>\n",
              "      <th>2</th>\n",
              "      <td>6.015555</td>\n",
              "    </tr>\n",
              "    <tr>\n",
              "      <th>3</th>\n",
              "      <td>6.071690</td>\n",
              "    </tr>\n",
              "    <tr>\n",
              "      <th>4</th>\n",
              "      <td>6.052625</td>\n",
              "    </tr>\n",
              "    <tr>\n",
              "      <th>5</th>\n",
              "      <td>6.059153</td>\n",
              "    </tr>\n",
              "    <tr>\n",
              "      <th>6</th>\n",
              "      <td>6.043078</td>\n",
              "    </tr>\n",
              "  </tbody>\n",
              "</table>\n",
              "</div>\n",
              "      <button class=\"colab-df-convert\" onclick=\"convertToInteractive('df-03e165c5-3dd5-40a6-8899-0e0c894aca3d')\"\n",
              "              title=\"Convert this dataframe to an interactive table.\"\n",
              "              style=\"display:none;\">\n",
              "        \n",
              "  <svg xmlns=\"http://www.w3.org/2000/svg\" height=\"24px\"viewBox=\"0 0 24 24\"\n",
              "       width=\"24px\">\n",
              "    <path d=\"M0 0h24v24H0V0z\" fill=\"none\"/>\n",
              "    <path d=\"M18.56 5.44l.94 2.06.94-2.06 2.06-.94-2.06-.94-.94-2.06-.94 2.06-2.06.94zm-11 1L8.5 8.5l.94-2.06 2.06-.94-2.06-.94L8.5 2.5l-.94 2.06-2.06.94zm10 10l.94 2.06.94-2.06 2.06-.94-2.06-.94-.94-2.06-.94 2.06-2.06.94z\"/><path d=\"M17.41 7.96l-1.37-1.37c-.4-.4-.92-.59-1.43-.59-.52 0-1.04.2-1.43.59L10.3 9.45l-7.72 7.72c-.78.78-.78 2.05 0 2.83L4 21.41c.39.39.9.59 1.41.59.51 0 1.02-.2 1.41-.59l7.78-7.78 2.81-2.81c.8-.78.8-2.07 0-2.86zM5.41 20L4 18.59l7.72-7.72 1.47 1.35L5.41 20z\"/>\n",
              "  </svg>\n",
              "      </button>\n",
              "      \n",
              "  <style>\n",
              "    .colab-df-container {\n",
              "      display:flex;\n",
              "      flex-wrap:wrap;\n",
              "      gap: 12px;\n",
              "    }\n",
              "\n",
              "    .colab-df-convert {\n",
              "      background-color: #E8F0FE;\n",
              "      border: none;\n",
              "      border-radius: 50%;\n",
              "      cursor: pointer;\n",
              "      display: none;\n",
              "      fill: #1967D2;\n",
              "      height: 32px;\n",
              "      padding: 0 0 0 0;\n",
              "      width: 32px;\n",
              "    }\n",
              "\n",
              "    .colab-df-convert:hover {\n",
              "      background-color: #E2EBFA;\n",
              "      box-shadow: 0px 1px 2px rgba(60, 64, 67, 0.3), 0px 1px 3px 1px rgba(60, 64, 67, 0.15);\n",
              "      fill: #174EA6;\n",
              "    }\n",
              "\n",
              "    [theme=dark] .colab-df-convert {\n",
              "      background-color: #3B4455;\n",
              "      fill: #D2E3FC;\n",
              "    }\n",
              "\n",
              "    [theme=dark] .colab-df-convert:hover {\n",
              "      background-color: #434B5C;\n",
              "      box-shadow: 0px 1px 3px 1px rgba(0, 0, 0, 0.15);\n",
              "      filter: drop-shadow(0px 1px 2px rgba(0, 0, 0, 0.3));\n",
              "      fill: #FFFFFF;\n",
              "    }\n",
              "  </style>\n",
              "\n",
              "      <script>\n",
              "        const buttonEl =\n",
              "          document.querySelector('#df-03e165c5-3dd5-40a6-8899-0e0c894aca3d button.colab-df-convert');\n",
              "        buttonEl.style.display =\n",
              "          google.colab.kernel.accessAllowed ? 'block' : 'none';\n",
              "\n",
              "        async function convertToInteractive(key) {\n",
              "          const element = document.querySelector('#df-03e165c5-3dd5-40a6-8899-0e0c894aca3d');\n",
              "          const dataTable =\n",
              "            await google.colab.kernel.invokeFunction('convertToInteractive',\n",
              "                                                     [key], {});\n",
              "          if (!dataTable) return;\n",
              "\n",
              "          const docLinkHtml = 'Like what you see? Visit the ' +\n",
              "            '<a target=\"_blank\" href=https://colab.research.google.com/notebooks/data_table.ipynb>data table notebook</a>'\n",
              "            + ' to learn more about interactive tables.';\n",
              "          element.innerHTML = '';\n",
              "          dataTable['output_type'] = 'display_data';\n",
              "          await google.colab.output.renderOutput(dataTable, element);\n",
              "          const docLink = document.createElement('div');\n",
              "          docLink.innerHTML = docLinkHtml;\n",
              "          element.appendChild(docLink);\n",
              "        }\n",
              "      </script>\n",
              "    </div>\n",
              "  </div>\n",
              "  "
            ]
          },
          "metadata": {},
          "execution_count": 45
        }
      ]
    },
    {
      "cell_type": "markdown",
      "source": [
        "Classify users by number of ratings"
      ],
      "metadata": {
        "id": "xP3xZU5qqeYW"
      }
    },
    {
      "cell_type": "code",
      "source": [
        "#ratings_df[\"id\"].\n",
        "def classify_number_of_ratings(x):\n",
        "  if x < 500:\n",
        "    return \"< 500\"\n",
        "  elif (x >= 500) & (x < 1000):\n",
        "    return \"500 - 1000\"\n",
        "  elif (x >= 1000) & (x < 2000):\n",
        "    return \"1000 - 2000\"\n",
        "  elif (x >= 2000) & (x < 5000):\n",
        "    return \"2000 - 5000\"\n",
        "  elif x > 5000:\n",
        "    return \"> 5000\"\n",
        "ratings_per_user_distribution = ratings_df[\"id\"].value_counts().to_frame().rename(columns={ \"id\": \"count\"})\n",
        "\n",
        "\n",
        "ratings_per_user_distribution[\"number_of_ratings\"] = ratings_per_user_distribution[\"count\"].apply(lambda x: classify_number_of_ratings(x))\n",
        "\n",
        "ratings_per_user_distribution = ratings_per_user_distribution[[\"number_of_ratings\"]].value_counts().to_frame()\n",
        "ratings_per_user_distribution = ratings_per_user_distribution.loc[[\"< 500\", \"500 - 1000\", \"1000 - 2000\", \"2000 - 5000\", \"> 5000\"], :] \n",
        "ratings_per_user_distribution.rename(columns = {0:'Number of ratings per user'}, inplace = True)\n",
        "ratings_per_user_distribution.plot.bar(y='Number of ratings per user', figsize=(10, 5), xlabel=\"Number of ratings\")"
      ],
      "metadata": {
        "id": "NCOIu491qxRI",
        "colab": {
          "base_uri": "https://localhost:8080/",
          "height": 413
        },
        "outputId": "bb9f39db-5482-4310-b8b8-f2a20f2ec9ed"
      },
      "execution_count": 46,
      "outputs": [
        {
          "output_type": "execute_result",
          "data": {
            "text/plain": [
              "<matplotlib.axes._subplots.AxesSubplot at 0x7f8136723a50>"
            ]
          },
          "metadata": {},
          "execution_count": 46
        },
        {
          "output_type": "display_data",
          "data": {
            "text/plain": [
              "<Figure size 720x360 with 1 Axes>"
            ],
            "image/png": "[encoded data removed]"
          },
          "metadata": {
            "needs_background": "light"
          }
        }
      ]
    },
    {
      "cell_type": "code",
      "source": [
        "\n",
        "\n",
        "\n",
        "movies_df[\"duration-enum\"] = movies_df[\"duration\"].apply(lambda x: classify_duration(x))\n",
        "duration_distribution = movies_df[[\"duration-enum\"]].value_counts().to_frame()\n",
        "duration_distribution = duration_distribution.loc[[\"< 60\", \"60 - 90\", \"90 - 120\", \"120 - 180\", \"> 180\"], :] \n",
        "\n",
        "duration_distribution.rename(columns = {0:'Duration'}, inplace = True)\n",
        "duration_distribution.plot.bar(y='Duration', figsize=(10, 5), xlabel=\"Duration\")"
      ],
      "metadata": {
        "id": "-g_Ij7KpnNIp",
        "colab": {
          "base_uri": "https://localhost:8080/",
          "height": 400
        },
        "outputId": "08e2514d-e513-4357-e619-666e112f5e25"
      },
      "execution_count": 47,
      "outputs": [
        {
          "output_type": "execute_result",
          "data": {
            "text/plain": [
              "<matplotlib.axes._subplots.AxesSubplot at 0x7f81368b8dd0>"
            ]
          },
          "metadata": {},
          "execution_count": 47
        },
        {
          "output_type": "display_data",
          "data": {
            "text/plain": [
              "<Figure size 720x360 with 1 Axes>"
            ],
            "image/png": "[encoded data removed]"
          },
          "metadata": {
            "needs_background": "light"
          }
        }
      ]
    }
  ],
  "metadata": {
    "colab": {
      "collapsed_sections": [],
      "name": "cold_start_dataset_in_action.ipynb",
      "provenance": []
    },
    "kernelspec": {
      "display_name": "Python 3",
      "name": "python3"
    },
    "language_info": {
      "name": "python"
    }
  },
  "nbformat": 4,
  "nbformat_minor": 0
}